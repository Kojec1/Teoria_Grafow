{
 "cells": [
  {
   "cell_type": "markdown",
   "metadata": {},
   "source": [
    "## Bellman-Ford Algorithm"
   ]
  },
  {
   "cell_type": "code",
   "execution_count": null,
   "metadata": {},
   "outputs": [],
   "source": [
    "!pip install networkx algorithmx"
   ]
  },
  {
   "cell_type": "code",
   "execution_count": null,
   "metadata": {},
   "outputs": [],
   "source": [
    "import networkx as nx\n",
    "import algorithmx\n",
    "import re"
   ]
  },
  {
   "cell_type": "code",
   "execution_count": null,
   "metadata": {
    "scrolled": true
   },
   "outputs": [],
   "source": [
    "# Create Graph\n",
    "G = nx.DiGraph()\n",
    "\n",
    "with open('G.json', 'r') as f:\n",
    "    for row in f.readlines():\n",
    "        row = re.sub('[^A-Za-z0-9]+', ' ', row).split()\n",
    "        G.add_weighted_edges_from([(int(row[0]), int(row[1]), int(row[2]))])\n",
    "        \n",
    "print(G.edges)"
   ]
  },
  {
   "cell_type": "code",
   "execution_count": null,
   "metadata": {},
   "outputs": [],
   "source": [
    "# Graph Visualization\n",
    "canvas = algorithmx.jupyter_canvas()\n",
    "canvas.size((900,500))\n",
    "canvas.edgelength(120)\n",
    "\n",
    "canvas.nodes(range(len(G.nodes))).add()\n",
    "canvas.edges(G.edges).add().directed(True).label().text(lambda e: G.edges[e]['weight'])\n",
    "\n",
    "canvas"
   ]
  },
  {
   "cell_type": "code",
   "execution_count": null,
   "metadata": {},
   "outputs": [],
   "source": [
    "# Choose a source vertex\n",
    "source = 0\n",
    "\n",
    "\"\"\"Bellman-Ford algorithm - Returns shortest path from a source vertex to all of the other vertices\"\"\"\n",
    "edges = list(G.edges(data=True))\n",
    "dist = [0 if i == source else float(\"INF\") for i in range(len(G.nodes))]\n",
    "pred = [None for i in range(len(G.nodes))]\n",
    "\n",
    "for i in range(len(G.nodes) - 1):\n",
    "    for j in range(len(G.edges)):\n",
    "        if dist[edges[j][0]] is not float(\"INF\") and dist[edges[j][0]] + edges[j][2]['weight'] < dist[edges[j][1]]:\n",
    "            dist[edges[j][1]] = dist[edges[j][0]] + edges[j][2]['weight']\n",
    "            pred[edges[j][1]] = edges[j][0]\n",
    "\n",
    "for i in range(len(G.edges)):\n",
    "    if dist[edges[j][0]] is not float(\"INF\") and dist[edges[j][0]] + edges[j][2]['weight'] < dist[edges[j][1]]:\n",
    "        raise Exception(\"Negative-weight cycle\")\n",
    "\n",
    "print(f\"Distances: {dist}\")\n",
    "print(f\"Predecessors: {pred}\")"
   ]
  }
 ],
 "metadata": {
  "kernelspec": {
   "display_name": "Python 3",
   "language": "python",
   "name": "python3"
  },
  "language_info": {
   "codemirror_mode": {
    "name": "ipython",
    "version": 3
   },
   "file_extension": ".py",
   "mimetype": "text/x-python",
   "name": "python",
   "nbconvert_exporter": "python",
   "pygments_lexer": "ipython3",
   "version": "3.8.5"
  }
 },
 "nbformat": 4,
 "nbformat_minor": 4
}
