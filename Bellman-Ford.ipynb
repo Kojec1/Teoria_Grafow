{
 "cells": [
  {
   "cell_type": "code",
   "execution_count": 1,
   "metadata": {},
   "outputs": [],
   "source": [
    "import networkx as nx\n",
    "import algorithmx\n",
    "import re"
   ]
  },
  {
   "cell_type": "code",
   "execution_count": 2,
   "metadata": {
    "scrolled": true
   },
   "outputs": [
    {
     "name": "stdout",
     "output_type": "stream",
     "text": [
      "[(0, 1), (0, 2), (1, 6), (1, 3), (2, 3), (3, 4), (3, 5), (4, 5), (4, 6), (5, 6)]\n"
     ]
    }
   ],
   "source": [
    "# Create Graph\n",
    "G = nx.DiGraph()\n",
    "\n",
    "with open('G.json', 'r') as f:\n",
    "    for row in f.readlines():\n",
    "        row = re.sub('[^A-Za-z0-9]+', ' ', row).split()\n",
    "        G.add_weighted_edges_from([(int(row[0]), int(row[1]), int(row[2]))])\n",
    "        \n",
    "print(G.edges)"
   ]
  },
  {
   "cell_type": "code",
   "execution_count": 3,
   "metadata": {},
   "outputs": [
    {
     "data": {
      "application/vnd.jupyter.widget-view+json": {
       "model_id": "2279a2c3f2764b50bb57e6a0210afe4d",
       "version_major": 2,
       "version_minor": 0
      },
      "text/plain": [
       "JupyterWidget(events=['{\"attrs\": {\"size\": [900, 500]}}', '{\"attrs\": {\"edgelength\": 120}}', '{\"attrs\": {\"nodes\"…"
      ]
     },
     "metadata": {},
     "output_type": "display_data"
    }
   ],
   "source": [
    "# Graph Visualization\n",
    "canvas = algorithmx.jupyter_canvas()\n",
    "canvas.size((900,500))\n",
    "canvas.edgelength(120)\n",
    "\n",
    "canvas.nodes(range(len(G.nodes))).add()\n",
    "canvas.edges(G.edges).add().directed(True).label().text(lambda e: G.edges[e]['weight'])\n",
    "\n",
    "canvas"
   ]
  },
  {
   "cell_type": "code",
   "execution_count": 4,
   "metadata": {},
   "outputs": [
    {
     "name": "stdout",
     "output_type": "stream",
     "text": [
      "Distances: [0, 5, 1, 6, 13, 15, 14]\n",
      "Predecessors: [None, 0, 0, 1, 3, 4, 1]\n"
     ]
    }
   ],
   "source": [
    "# Choose a source vertex\n",
    "source = 0\n",
    "\n",
    "\"\"\"Bellman-Ford algorithm - Returns shortest path from a source vertex to all of the other vertices\"\"\"\n",
    "edges = list(G.edges(data=True))\n",
    "dist = [0 if i == source else float(\"INF\") for i in range(len(G.nodes))]\n",
    "pred = [None for i in range(len(G.nodes))]\n",
    "\n",
    "for i in range(len(G.nodes) - 1):\n",
    "    for j in range(len(G.edges)):\n",
    "        if dist[edges[j][0]] is not float(\"INF\") and dist[edges[j][0]] + edges[j][2]['weight'] < dist[edges[j][1]]:\n",
    "            dist[edges[j][1]] = dist[edges[j][0]] + edges[j][2]['weight']\n",
    "            pred[edges[j][1]] = edges[j][0]\n",
    "\n",
    "for i in range(len(G.edges)):\n",
    "    if dist[edges[j][0]] is not float(\"INF\") and dist[edges[j][0]] + edges[j][2]['weight'] < dist[edges[j][1]]:\n",
    "        raise Exception(\"Negative-weight cycle\")\n",
    "\n",
    "print(f\"Distances: {dist}\")\n",
    "print(f\"Predecessors: {pred}\")"
   ]
  }
 ],
 "metadata": {
  "kernelspec": {
   "display_name": "Python 3",
   "language": "python",
   "name": "python3"
  },
  "language_info": {
   "codemirror_mode": {
    "name": "ipython",
    "version": 3
   },
   "file_extension": ".py",
   "mimetype": "text/x-python",
   "name": "python",
   "nbconvert_exporter": "python",
   "pygments_lexer": "ipython3",
   "version": "3.8.5"
  }
 },
 "nbformat": 4,
 "nbformat_minor": 4
}
