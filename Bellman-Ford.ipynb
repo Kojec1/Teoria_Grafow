{
 "cells": [
  {
   "cell_type": "markdown",
   "metadata": {},
   "source": [
    "## Bellman-Ford Algorithm"
   ]
  },
  {
   "cell_type": "code",
   "execution_count": null,
   "metadata": {},
   "outputs": [],
   "source": [
    "!pip install networkx algorithmx"
   ]
  },
  {
   "cell_type": "code",
   "execution_count": null,
   "metadata": {},
   "outputs": [],
   "source": [
    "import networkx as nx\n",
    "import algorithmx\n",
    "import json"
   ]
  },
  {
   "cell_type": "code",
   "execution_count": null,
   "metadata": {},
   "outputs": [],
   "source": [
    "# Create Graph\n",
    "G = nx.DiGraph()\n",
    "\n",
    "# Import .json file and unpack data\n",
    "with open('G.json', 'r') as file:\n",
    "    data = json.load(file)\n",
    "    for row in data:\n",
    "        G.add_weighted_edges_from([(row[0], row[1], row[2])])\n",
    "\n",
    "print(G.edges)"
   ]
  },
  {
   "cell_type": "code",
   "execution_count": null,
   "metadata": {},
   "outputs": [],
   "source": [
    "# Graph Visualization\n",
    "canvas = algorithmx.jupyter_canvas()\n",
    "canvas.size((900,500))\n",
    "canvas.edgelength(120)\n",
    "\n",
    "canvas.nodes(range(len(G.nodes))).add()\n",
    "canvas.edges(G.edges).add().directed(True).label().text(lambda e: G.edges[e]['weight'])\n",
    "\n",
    "canvas"
   ]
  },
  {
   "cell_type": "code",
   "execution_count": null,
   "metadata": {
    "pycharm": {
     "name": "#%%\n"
    }
   },
   "outputs": [],
   "source": [
    "# Choose a source vertex\n",
    "source = 0\n",
    "\n",
    "\"\"\"Bellman-Ford algorithm - Returns shortest path from a source vertex to all of the other vertices\"\"\"\n",
    "\n",
    "# Step 1\n",
    "edges = list(G.edges(data=True))\n",
    "dist = [0 if node == source else float(\"INF\") for index, node in enumerate(G.nodes)]\n",
    "pred = [None for node in enumerate(G.nodes)]\n",
    "\n",
    "# Step 2\n",
    "for i in range(len(G.nodes) - 1):\n",
    "    updated = False\n",
    "    \n",
    "    for index, edge in enumerate(G.edges):\n",
    "        u = edges[index][0]\n",
    "        v = edges[index][1]\n",
    "        weight = edges[index][2]['weight']\n",
    "        \n",
    "        if dist[u] is not float(\"INF\") and dist[u] + weight < dist[v]:\n",
    "            dist[v] = dist[u] + weight\n",
    "            pred[v] = u\n",
    "            is_updated = True\n",
    "    \n",
    "    if not updated:\n",
    "        break\n",
    "\n",
    "# Step 3\n",
    "for index, edge in enumerate(G.edges):\n",
    "    u = edges[index][0]\n",
    "    v = edges[index][1]\n",
    "    weight = edges[index][2]['weight']\n",
    "    \n",
    "    if dist[u] is not float(\"INF\") and dist[u] + weight < dist[v]:\n",
    "        raise Exception(\"Negative-weight cycle\")\n",
    "\n",
    "print(f\"Distances: {dist}\")\n",
    "print(f\"Predecessors: {pred}\")"
   ]
  }
 ],
 "metadata": {
  "kernelspec": {
   "display_name": "Python 3",
   "language": "python",
   "name": "python3"
  },
  "language_info": {
   "codemirror_mode": {
    "name": "ipython",
    "version": 3
   },
   "file_extension": ".py",
   "mimetype": "text/x-python",
   "name": "python",
   "nbconvert_exporter": "python",
   "pygments_lexer": "ipython3",
   "version": "3.8.5"
  }
 },
 "nbformat": 4,
 "nbformat_minor": 4
}
